{
 "cells": [
  {
   "cell_type": "code",
   "execution_count": 1,
   "metadata": {},
   "outputs": [
    {
     "name": "stdout",
     "output_type": "stream",
     "text": [
      "Downloading data from https://storage.googleapis.com/tensorflow/keras-applications/vgg16/vgg16_weights_tf_dim_ordering_tf_kernels_notop.h5\n",
      "58889256/58889256 [==============================] - 5s 0us/step\n",
      "Epoch 1/10\n",
      "781/781 [==============================] - 95s 121ms/step - loss: 1.5977 - accuracy: 0.0997 - val_loss: 1.3223 - val_accuracy: 0.1037\n",
      "Epoch 2/10\n",
      "781/781 [==============================] - 93s 119ms/step - loss: 1.4080 - accuracy: 0.0974 - val_loss: 1.2605 - val_accuracy: 0.1029\n",
      "Epoch 3/10\n",
      "781/781 [==============================] - 94s 121ms/step - loss: 1.3581 - accuracy: 0.0971 - val_loss: 1.2542 - val_accuracy: 0.0989\n",
      "Epoch 4/10\n",
      "781/781 [==============================] - 93s 119ms/step - loss: 1.3310 - accuracy: 0.0985 - val_loss: 1.2118 - val_accuracy: 0.1237\n",
      "Epoch 5/10\n",
      "781/781 [==============================] - 95s 121ms/step - loss: 1.3124 - accuracy: 0.0997 - val_loss: 1.2045 - val_accuracy: 0.1155\n",
      "Epoch 6/10\n",
      "781/781 [==============================] - 95s 121ms/step - loss: 1.2978 - accuracy: 0.0998 - val_loss: 1.1850 - val_accuracy: 0.1228\n",
      "Epoch 7/10\n",
      "781/781 [==============================] - 96s 123ms/step - loss: 1.2788 - accuracy: 0.0989 - val_loss: 1.1750 - val_accuracy: 0.0961\n",
      "Epoch 8/10\n",
      "781/781 [==============================] - 89s 115ms/step - loss: 1.2716 - accuracy: 0.0988 - val_loss: 1.1579 - val_accuracy: 0.0890\n",
      "Epoch 9/10\n",
      "781/781 [==============================] - 95s 122ms/step - loss: 1.2655 - accuracy: 0.0985 - val_loss: 1.1615 - val_accuracy: 0.1214\n",
      "Epoch 10/10\n",
      "781/781 [==============================] - 97s 125ms/step - loss: 1.2611 - accuracy: 0.0989 - val_loss: 1.1721 - val_accuracy: 0.0914\n",
      "313/313 [==============================] - 19s 59ms/step - loss: 1.1721 - accuracy: 0.0914\n",
      "Test accuracy: 0.09139999747276306\n"
     ]
    }
   ],
   "source": [
    "import tensorflow as tf\n",
    "from tensorflow.keras import datasets, layers, models, optimizers\n",
    "from tensorflow.keras.applications import VGG16\n",
    "from tensorflow.keras.preprocessing.image import ImageDataGenerator\n",
    "\n",
    "# Load CIFAR-10 dataset\n",
    "(train_images, train_labels), (test_images, test_labels) = datasets.cifar10.load_data()\n",
    "\n",
    "# Normalize pixel values to be between 0 and 1\n",
    "train_images, test_images = train_images / 255.0, test_images / 255.0\n",
    "\n",
    "# Define data augmentation\n",
    "train_datagen = ImageDataGenerator(\n",
    "    rotation_range=15,\n",
    "    width_shift_range=0.1,\n",
    "    height_shift_range=0.1,\n",
    "    horizontal_flip=True,\n",
    "    )\n",
    "train_datagen.fit(train_images)\n",
    "\n",
    "# Load pre-trained VGG16 model without including top dense layers\n",
    "base_model = VGG16(weights='imagenet', include_top=False, input_shape=(32, 32, 3))\n",
    "\n",
    "# Freeze all layers in base model\n",
    "for layer in base_model.layers:\n",
    "    layer.trainable = False\n",
    "\n",
    "# Add custom dense layers for CIFAR-10 classification\n",
    "model = models.Sequential()\n",
    "model.add(base_model)\n",
    "model.add(layers.Flatten())\n",
    "model.add(layers.Dense(256, activation='relu'))\n",
    "model.add(layers.Dropout(0.5))\n",
    "model.add(layers.Dense(10, activation='softmax'))\n",
    "\n",
    "# Compile the model\n",
    "model.compile(optimizer=optimizers.Adam(), \n",
    "              loss='sparse_categorical_crossentropy',\n",
    "              metrics=['accuracy'])\n",
    "\n",
    "# Train the model\n",
    "history = model.fit(train_datagen.flow(train_images, train_labels, batch_size=64),\n",
    "                    steps_per_epoch=len(train_images) / 64, epochs=10, \n",
    "                    validation_data=(test_images, test_labels))\n",
    "\n",
    "# Evaluate the model\n",
    "test_loss, test_acc = model.evaluate(test_images, test_labels)\n",
    "print(f'Test accuracy: {test_acc}')"
   ]
  }
 ],
 "metadata": {
  "kernelspec": {
   "display_name": "Python 3",
   "language": "python",
   "name": "python3"
  },
  "language_info": {
   "codemirror_mode": {
    "name": "ipython",
    "version": 3
   },
   "file_extension": ".py",
   "mimetype": "text/x-python",
   "name": "python",
   "nbconvert_exporter": "python",
   "pygments_lexer": "ipython3",
   "version": "3.10.11"
  }
 },
 "nbformat": 4,
 "nbformat_minor": 2
}
