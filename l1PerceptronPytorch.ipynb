{
 "cells": [
  {
   "cell_type": "code",
   "execution_count": 1,
   "metadata": {},
   "outputs": [
    {
     "name": "stdout",
     "output_type": "stream",
     "text": [
      "Inputs: [0.33589665 0.43183756]\n",
      "Weights: [0.99311127 0.76214896]\n",
      "Bias: [0.41620126]\n",
      "Output: 1\n"
     ]
    }
   ],
   "source": [
    "import numpy as np\n",
    "\n",
    "# Define perceptron parameters\n",
    "input_size = 2\n",
    "weights = np.random.rand(input_size)\n",
    "bias = np.random.rand(1)\n",
    "learning_rate = 0.01\n",
    "\n",
    "# Define the step function\n",
    "def step_function(x):\n",
    "    return 1 if x > 0 else 0\n",
    "\n",
    "# Define the perceptron function\n",
    "def perceptron(inputs, weights, bias):\n",
    "    linear_combination = np.dot(inputs, weights) + bias\n",
    "    output = step_function(linear_combination)\n",
    "    return output\n",
    "\n",
    "# Generate random inputs\n",
    "inputs = np.random.rand(input_size)\n",
    "\n",
    "# Apply the perceptron\n",
    "output = perceptron(inputs, weights, bias)\n",
    "\n",
    "# Display results\n",
    "print(\"Inputs:\", inputs)\n",
    "print(\"Weights:\", weights)\n",
    "print(\"Bias:\", bias)\n",
    "print(\"Output:\", output)"
   ]
  }
 ],
 "metadata": {
  "kernelspec": {
   "display_name": "Python 3",
   "language": "python",
   "name": "python3"
  },
  "language_info": {
   "codemirror_mode": {
    "name": "ipython",
    "version": 3
   },
   "file_extension": ".py",
   "mimetype": "text/x-python",
   "name": "python",
   "nbconvert_exporter": "python",
   "pygments_lexer": "ipython3",
   "version": "3.10.11"
  }
 },
 "nbformat": 4,
 "nbformat_minor": 2
}
